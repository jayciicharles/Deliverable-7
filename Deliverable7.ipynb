{
  "nbformat": 4,
  "nbformat_minor": 0,
  "metadata": {
    "colab": {
      "provenance": []
    },
    "kernelspec": {
      "name": "python3",
      "display_name": "Python 3"
    },
    "language_info": {
      "name": "python"
    }
  },
  "cells": [
    {
      "cell_type": "code",
      "source": [
        "import numpy as np\n",
        "\n",
        "def method_1(input):\n",
        "  return list(np.random.randint(10, 50, input))\n",
        "\n",
        "def method_2(list1):\n",
        "  return sum(list1)\n",
        "\n",
        "while True:\n",
        "  user_input = int(input(\"Enter a value between 5 and 15: \"))\n",
        "  if (user_input >=5) and (user_input<=15): break\n",
        "\n",
        "print(\"User's entry is: {}\".format(method_1(user_input)))\n",
        "print(\"The sum of the array is: {}\".format(method_2(method_1(user_input))))\n"
      ],
      "metadata": {
        "colab": {
          "base_uri": "https://localhost:8080/"
        },
        "id": "LvoOlJ7vADNs",
        "outputId": "dfad919c-702e-4464-b462-d54c3aee2be0"
      },
      "execution_count": 17,
      "outputs": [
        {
          "output_type": "stream",
          "name": "stdout",
          "text": [
            "Enter a value between 5 and 15: 4\n",
            "Enter a value between 5 and 15: 16\n",
            "Enter a value between 5 and 15: 5\n",
            "User's entry is: [18, 42, 15, 36, 44]\n",
            "The sum of the array is: 167\n"
          ]
        }
      ]
    }
  ]
}